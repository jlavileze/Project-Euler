{
 "cells": [
  {
   "cell_type": "markdown",
   "metadata": {},
   "source": [
    "# Problem 596 - Number of lattice points in a hyperball\n",
    "We use the following result by [Mitchell](https://www.jstor.org/stable/pdf/2003508.pdf?refreqid=excelsior%3Aa6929a58ce025aa16e9cbb793266cf10) (1966): $$A_k (x) = A_{k-1} (x) + 2 \\sum_{i = 1}^{\\left \\lceil{\\sqrt{x}}\\right \\rceil} A_{k-1}(x - i^2)$$ where $$A_1 (0) = 1$$ $$A_1 (x) = A_1(x-1) + 2 \\delta (x) $$\n",
    "where $\\delta (x)$ is the square indicator function.\n"
   ]
  },
  {
   "cell_type": "code",
   "execution_count": 1,
   "metadata": {},
   "outputs": [],
   "source": [
    "def lattice_points(radius_squared, dim):\n",
    "    pass"
   ]
  },
  {
   "cell_type": "code",
   "execution_count": null,
   "metadata": {},
   "outputs": [],
   "source": []
  }
 ],
 "metadata": {
  "kernelspec": {
   "display_name": "Python 3",
   "language": "python",
   "name": "python3"
  },
  "language_info": {
   "codemirror_mode": {
    "name": "ipython",
    "version": 3
   },
   "file_extension": ".py",
   "mimetype": "text/x-python",
   "name": "python",
   "nbconvert_exporter": "python",
   "pygments_lexer": "ipython3",
   "version": "3.6.3"
  }
 },
 "nbformat": 4,
 "nbformat_minor": 2
}
