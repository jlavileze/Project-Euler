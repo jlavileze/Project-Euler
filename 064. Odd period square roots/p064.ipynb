{
 "cells": [
  {
   "cell_type": "code",
   "execution_count": 1,
   "metadata": {},
   "outputs": [],
   "source": [
    "# Consider using the results from this paper:\n",
    "# https://www.mathstat.dal.ca/FQ/Papers1/42-2/quartrippon02_2004.pdf"
   ]
  },
  {
   "cell_type": "code",
   "execution_count": 3,
   "metadata": {},
   "outputs": [],
   "source": [
    "from math import sqrt, floor"
   ]
  },
  {
   "cell_type": "code",
   "execution_count": 2,
   "metadata": {},
   "outputs": [],
   "source": [
    "L = 10000\n",
    "odd_period = 0"
   ]
  },
  {
   "cell_type": "code",
   "execution_count": 7,
   "metadata": {},
   "outputs": [],
   "source": [
    "def is_square(x):\n",
    "    sqrt_x = sqrt(x)\n",
    "    return sqrt_x == floor(sqrt_x)\n",
    "\n",
    "def period(S):\n",
    "    period = 0\n",
    "    mn = 0\n",
    "    dn = 1\n",
    "    a0, an = floor(sqrt(S)), floor(sqrt(S))\n",
    "    an1 = 0.3\n",
    "    test = 0\n",
    "    while test != 2 * a0:\n",
    "        period += 1\n",
    "        mn1 = dn * an - mn\n",
    "        dn1 = (S - mn1 ** 2) // dn\n",
    "        an1 = floor((sqrt(S) + mn1) / dn1)\n",
    "        test = an1\n",
    "        an = an1\n",
    "        dn = dn1\n",
    "        mn = mn1\n",
    "    return period"
   ]
  },
  {
   "cell_type": "code",
   "execution_count": 9,
   "metadata": {},
   "outputs": [],
   "source": [
    "for i in range(2,L + 1):\n",
    "    if not is_square(i):\n",
    "        per = period(i)\n",
    "        if per % 2 == 1:\n",
    "            odd_period += 1"
   ]
  },
  {
   "cell_type": "code",
   "execution_count": 10,
   "metadata": {},
   "outputs": [
    {
     "data": {
      "text/plain": [
       "1322"
      ]
     },
     "execution_count": 10,
     "metadata": {},
     "output_type": "execute_result"
    }
   ],
   "source": [
    "odd_period"
   ]
  },
  {
   "cell_type": "code",
   "execution_count": null,
   "metadata": {},
   "outputs": [],
   "source": []
  }
 ],
 "metadata": {
  "kernelspec": {
   "display_name": "Python 3",
   "language": "python",
   "name": "python3"
  },
  "language_info": {
   "codemirror_mode": {
    "name": "ipython",
    "version": 3
   },
   "file_extension": ".py",
   "mimetype": "text/x-python",
   "name": "python",
   "nbconvert_exporter": "python",
   "pygments_lexer": "ipython3",
   "version": "3.6.3"
  }
 },
 "nbformat": 4,
 "nbformat_minor": 2
}
