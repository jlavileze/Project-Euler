{
 "cells": [
  {
   "cell_type": "code",
   "execution_count": 39,
   "metadata": {},
   "outputs": [],
   "source": [
    "# Read file\n",
    "f = open(\"p054_poker.txt\", \"r\")\n",
    "x = f.readlines()\n",
    "f.close()"
   ]
  },
  {
   "cell_type": "code",
   "execution_count": 40,
   "metadata": {},
   "outputs": [],
   "source": [
    "# Put in a nice format\n",
    "x = list(map(lambda x: x.replace('\\n', ''), x))\n",
    "x = list(map(lambda x: x.split(\" \"), x))"
   ]
  },
  {
   "cell_type": "code",
   "execution_count": 41,
   "metadata": {},
   "outputs": [],
   "source": [
    "# Obtain lists for player 1 and player 2\n",
    "p1 = [l[0:5] for l in x]\n",
    "p2 = [l[5:10] for l in x]"
   ]
  },
  {
   "cell_type": "code",
   "execution_count": 42,
   "metadata": {},
   "outputs": [],
   "source": [
    "def l2lot(lst):\n",
    "    d = {'T': 10, 'J': 11, 'Q': 12, 'K':13, 'A': 14}\n",
    "    l = []\n",
    "    for i in lst:\n",
    "        if i[0] in d:\n",
    "            num = d[i[0]]\n",
    "        else:\n",
    "            num = int(i[0])\n",
    "            \n",
    "        tup = (num, i[1])\n",
    "        l.append(tup)\n",
    "    return l"
   ]
  },
  {
   "cell_type": "code",
   "execution_count": 45,
   "metadata": {},
   "outputs": [],
   "source": [
    "p1 = list(map(l2lot, p1))\n",
    "p2 = list(map(l2lot, p2))"
   ]
  },
  {
   "cell_type": "code",
   "execution_count": 89,
   "metadata": {},
   "outputs": [],
   "source": [
    "def checkEqual(lst):\n",
    "    # Checks equality of elements in list\n",
    "    return lst[1:] == lst[:-1]\n",
    "\n",
    "def hand_analyser(loc):\n",
    "    '''\n",
    "    Consumes a list of 5 cards and returns a tuple containing the rank-ordering of the hand and the high card\n",
    "    in the play\n",
    "    '''\n",
    "    \n",
    "    lon = [x[0] for x in loc]\n",
    "    lon.sort()\n",
    "    losuits = [x[1] for x in loc]\n",
    "    losuits.sort()\n",
    "    \n",
    "    d = dict_counts(lon)\n",
    "    \n",
    "    # Possible straights\n",
    "    st = []\n",
    "    for i in range(2,9):\n",
    "        st.append([i for i in range(i,i+5)])\n",
    "        \n",
    "    # Royal flush\n",
    "    if lon == [10,11,12,13,14] and checkEqual(losuits):\n",
    "        return (0, 14)\n",
    "    \n",
    "    # Straight flush\n",
    "    elif lon in st and checkEqual(losuits):\n",
    "        return (1, lon[4])\n",
    "    \n",
    "    # Four of a kind\n",
    "    elif (lon[3] - lon[0]) == 0 or (lon[4] - lon[1]) == 0:\n",
    "        return (2, lon[2])\n",
    "    \n",
    "    # Full House\n",
    "    elif ((lon[2] - lon[0]) == 0 and (lon[4] - lon[3]) == 0) or ((lon[1] - lon[0]) == 0 and (lon[4] - lon[2]) == 0):\n",
    "        for key in d:\n",
    "            if d[key] == 3:\n",
    "                return (3, key)\n",
    "    \n",
    "    # Flush\n",
    "    elif checkEqual(losuits):\n",
    "        return (4, lon[4])\n",
    "    \n",
    "    # Straight\n",
    "    elif lon in st:\n",
    "        return (5, lon[4])\n",
    "    \n",
    "    # Three of a kind\n",
    "    elif (lon[2] - lon[0] == 0) or (lon[3] - lon[1] == 0) or (lon[4] - lon[2] == 0):\n",
    "        return (6, lon[2])\n",
    "    \n",
    "    # Two pairs\n",
    "#     def dict_val_count(d):\n",
    "#         vals = d.values()\n",
    "#         return dict_counts(vals)\n",
    "    \n",
    "    elif list(d.values()) in [[2,2,1],[2,1,2],[1,2,2]]:\n",
    "        # check manually\n",
    "        return (7, 0)\n",
    "    \n",
    "    # Two of a kind or worse\n",
    "    else:\n",
    "        for key in d:\n",
    "            if d[key] == 2:\n",
    "                return (8, key)\n",
    "        return (9, lon[4])"
   ]
  },
  {
   "cell_type": "code",
   "execution_count": 90,
   "metadata": {},
   "outputs": [],
   "source": [
    "def hand_compare(h1,h2):\n",
    "    if h1[0] < h2[0]:\n",
    "        return 1\n",
    "    elif h2[0] < h1[0]:\n",
    "        return 2\n",
    "    else:\n",
    "        if h1[1] > h2[1]:\n",
    "            return 1\n",
    "        elif h2[1] > h1[1]:\n",
    "            return 2\n",
    "        else:\n",
    "            return 0"
   ]
  },
  {
   "cell_type": "code",
   "execution_count": 91,
   "metadata": {},
   "outputs": [],
   "source": [
    "h1 = list(map(hand_analyser, p1))\n",
    "h2 = list(map(hand_analyser, p2))"
   ]
  },
  {
   "cell_type": "code",
   "execution_count": 92,
   "metadata": {},
   "outputs": [
    {
     "data": {
      "text/plain": [
       "(8, 14)"
      ]
     },
     "execution_count": 92,
     "metadata": {},
     "output_type": "execute_result"
    }
   ],
   "source": [
    "hand_analyser(p2[10])"
   ]
  },
  {
   "cell_type": "code",
   "execution_count": 93,
   "metadata": {},
   "outputs": [
    {
     "name": "stdout",
     "output_type": "stream",
     "text": [
      "Game 24 \n",
      "Player 1: [(6, 'D'), (7, 'C'), (5, 'D'), (5, 'H'), (3, 'S')] || Player 2: [(5, 'C'), (11, 'C'), (2, 'H'), (5, 'S'), (3, 'D')] \n",
      "\n"
     ]
    }
   ],
   "source": [
    "counter = 0 \n",
    "for i in range(1000):\n",
    "    res = hand_compare(h1[i], h2[i])\n",
    "    if res == 1:\n",
    "        counter += 1\n",
    "    if res == 0:\n",
    "        print(\"Game {0} \\nPlayer 1: {1} || Player 2: {2} \\n\".format(i, p1[i], p2[i]))"
   ]
  },
  {
   "cell_type": "code",
   "execution_count": 94,
   "metadata": {},
   "outputs": [
    {
     "data": {
      "text/plain": [
       "375"
      ]
     },
     "execution_count": 94,
     "metadata": {},
     "output_type": "execute_result"
    }
   ],
   "source": [
    "# Player 2 wins game 24\n",
    "counter"
   ]
  },
  {
   "cell_type": "code",
   "execution_count": 95,
   "metadata": {},
   "outputs": [
    {
     "data": {
      "text/plain": [
       "1000"
      ]
     },
     "execution_count": 95,
     "metadata": {},
     "output_type": "execute_result"
    }
   ],
   "source": []
  },
  {
   "cell_type": "code",
   "execution_count": null,
   "metadata": {},
   "outputs": [],
   "source": []
  }
 ],
 "metadata": {
  "kernelspec": {
   "display_name": "Python 3",
   "language": "python",
   "name": "python3"
  },
  "language_info": {
   "codemirror_mode": {
    "name": "ipython",
    "version": 3
   },
   "file_extension": ".py",
   "mimetype": "text/x-python",
   "name": "python",
   "nbconvert_exporter": "python",
   "pygments_lexer": "ipython3",
   "version": "3.6.3"
  }
 },
 "nbformat": 4,
 "nbformat_minor": 2
}
