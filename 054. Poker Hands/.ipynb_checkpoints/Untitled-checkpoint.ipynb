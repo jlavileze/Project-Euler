{
 "cells": [
  {
   "cell_type": "code",
   "execution_count": 17,
   "metadata": {},
   "outputs": [],
   "source": [
    "def lagrange_interpolation(x, lotup):\n",
    "    '''\n",
    "    Evaluates the Lagrange polynomial fit on list of tuples, lotup, at x\n",
    "    '''\n",
    "    \n",
    "    degree = len(lotup)\n",
    "    \n",
    "    output = 0\n",
    "    \n",
    "    for i in range(degree):\n",
    "        y_i = lotup[i][1]\n",
    "        l_i = 1\n",
    "        for j in range(degree):\n",
    "            if j != i:\n",
    "                l_i *= ((x - lotup[j][0]) / (lotup[i][0] - lotup[j][0]))\n",
    "        output += (y_i * l_i)\n",
    "    \n",
    "    return output"
   ]
  },
  {
   "cell_type": "code",
   "execution_count": 23,
   "metadata": {},
   "outputs": [
    {
     "data": {
      "text/plain": [
       "25.0"
      ]
     },
     "execution_count": 23,
     "metadata": {},
     "output_type": "execute_result"
    }
   ],
   "source": [
    "# Test with generating function f(x)=x^2\n",
    "\n",
    "lotup_test = [(1,1),(2,4),(3,9)]\n",
    "lagrange_interpolation(5, lotup_test)"
   ]
  },
  {
   "cell_type": "code",
   "execution_count": 22,
   "metadata": {},
   "outputs": [],
   "source": [
    "def generating_polynomial(n):\n",
    "     return 1 - n + n**2 - n**3 + n**4 - n**5 + n**6 - n**7 + n**8 - n**9 + n**10"
   ]
  },
  {
   "cell_type": "code",
   "execution_count": null,
   "metadata": {},
   "outputs": [],
   "source": [
    "lotup"
   ]
  }
 ],
 "metadata": {
  "kernelspec": {
   "display_name": "Python 3",
   "language": "python",
   "name": "python3"
  },
  "language_info": {
   "codemirror_mode": {
    "name": "ipython",
    "version": 3
   },
   "file_extension": ".py",
   "mimetype": "text/x-python",
   "name": "python",
   "nbconvert_exporter": "python",
   "pygments_lexer": "ipython3",
   "version": "3.6.3"
  }
 },
 "nbformat": 4,
 "nbformat_minor": 2
}
