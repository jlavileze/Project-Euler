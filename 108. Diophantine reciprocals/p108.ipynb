{
 "cells": [
  {
   "cell_type": "markdown",
   "metadata": {},
   "source": [
    "# Problem 108 - Diophantine reciprocals I\n",
    "\n",
    "Consider the following diophantine equation $$\\frac{1}{x} + \\frac{1}{y} = \\frac{1}{n}$$ We are to find the smallest $n$ such that the number of distinct solutions exceeds $1000$. Clearly, $x,y > n$, so we may write $x= n+r, y = n+s$. Substituting and re-arranging our equation we arrive at $$n^2 = sr$$ Thus, to solve the problem, we need to find the first square number which has over 2000 divisors. Given a prime factorisation $n = p_1^{a_1} \\ldots p_k^{a_k}$ the number of divisors of $n$ is $$d(n) = \\prod_{1 \\leq i \\leq k} (a_i + 1)$$ It follows from this that $$d(n^2) = \\prod_{1 \\leq i \\leq k} (2a_i + 1)$$\n",
    "Since $(x,y)$ is indistinguishable from $(y,x)$ for the purposes of this question, we must find the first square with over $2000$ divisors."
   ]
  },
  {
   "cell_type": "code",
   "execution_count": 2,
   "metadata": {},
   "outputs": [],
   "source": [
    "def primes_sieve2(limit):\n",
    "    '''\n",
    "    https://stackoverflow.com/questions/3939660/sieve-of-eratosthenes-finding-primes-python\n",
    "    '''\n",
    "    a = [True] * limit                          # Initialize the primality list\n",
    "    a[0] = a[1] = False\n",
    "\n",
    "    for (i, isprime) in enumerate(a):\n",
    "        if isprime:\n",
    "            yield i\n",
    "            for n in range(i*i, limit, i):     # Mark factors non-prime\n",
    "                a[n] = False"
   ]
  },
  {
   "cell_type": "code",
   "execution_count": 6,
   "metadata": {},
   "outputs": [],
   "source": [
    "prime_list = list(primes_sieve2(10**6))"
   ]
  },
  {
   "cell_type": "code",
   "execution_count": 19,
   "metadata": {},
   "outputs": [],
   "source": [
    "def count_square_divisors(num):\n",
    "    '''\n",
    "    Given a number, count the number of divisors its square has.\n",
    "    '''\n",
    "    answer = 1\n",
    "    exponent = 0\n",
    "    i = 0\n",
    "    while num > 1:\n",
    "        prime = prime_list[i]\n",
    "        if num % prime == 0:\n",
    "            exponent += 1\n",
    "            num //= prime\n",
    "        else:\n",
    "            answer *= (2 * exponent + 1)\n",
    "            i += 1\n",
    "            exponent = 0\n",
    "    return answer * (2 * exponent + 1)\n",
    "        "
   ]
  },
  {
   "cell_type": "code",
   "execution_count": 20,
   "metadata": {},
   "outputs": [
    {
     "data": {
      "text/plain": [
       "9"
      ]
     },
     "execution_count": 20,
     "metadata": {},
     "output_type": "execute_result"
    }
   ],
   "source": [
    "count_square_divisors(6)"
   ]
  },
  {
   "cell_type": "code",
   "execution_count": 21,
   "metadata": {},
   "outputs": [
    {
     "name": "stdout",
     "output_type": "stream",
     "text": [
      "180180\n"
     ]
    }
   ],
   "source": [
    "for n in range(10, 10**6):\n",
    "    d = count_square_divisors(n)\n",
    "    if d > 2000:\n",
    "        print(n)\n",
    "        break"
   ]
  },
  {
   "cell_type": "code",
   "execution_count": null,
   "metadata": {},
   "outputs": [],
   "source": []
  }
 ],
 "metadata": {
  "kernelspec": {
   "display_name": "Python 3",
   "language": "python",
   "name": "python3"
  },
  "language_info": {
   "codemirror_mode": {
    "name": "ipython",
    "version": 3
   },
   "file_extension": ".py",
   "mimetype": "text/x-python",
   "name": "python",
   "nbconvert_exporter": "python",
   "pygments_lexer": "ipython3",
   "version": "3.6.3"
  }
 },
 "nbformat": 4,
 "nbformat_minor": 2
}
