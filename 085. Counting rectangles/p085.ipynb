{
 "cells": [
  {
   "cell_type": "markdown",
   "metadata": {},
   "source": [
    "Given an $m \\times n$ grid, the number of rectangles is given by $$R = \\frac{mn(m+1)(n+1)}{4}$$ Thus, we want to find $m$ and $n$ such that $mn$ is minimised and $R > 2000000$. B"
   ]
  },
  {
   "cell_type": "code",
   "execution_count": 27,
   "metadata": {},
   "outputs": [],
   "source": [
    "min_dif = 10**10\n",
    "n_fin = 0\n",
    "m_fin = 0\n",
    "for m in range(1,1500):\n",
    "    for n in range(1,1500):\n",
    "        cand = m*n*(m+1)*(n+1) // 4\n",
    "        if abs(cand - 2000000) < min_dif:\n",
    "            min_dif = abs(cand - 2000000)\n",
    "            m_fin = m\n",
    "            n_fin = n"
   ]
  },
  {
   "cell_type": "code",
   "execution_count": 28,
   "metadata": {},
   "outputs": [
    {
     "data": {
      "text/plain": [
       "1999998"
      ]
     },
     "execution_count": 28,
     "metadata": {},
     "output_type": "execute_result"
    }
   ],
   "source": [
    "m_fin * n_fin * (m_fin + 1) * (n_fin + 1) //4"
   ]
  },
  {
   "cell_type": "code",
   "execution_count": 29,
   "metadata": {},
   "outputs": [
    {
     "data": {
      "text/plain": [
       "2772"
      ]
     },
     "execution_count": 29,
     "metadata": {},
     "output_type": "execute_result"
    }
   ],
   "source": [
    "m_fin * n_fin"
   ]
  },
  {
   "cell_type": "code",
   "execution_count": null,
   "metadata": {},
   "outputs": [],
   "source": []
  }
 ],
 "metadata": {
  "kernelspec": {
   "display_name": "Python 3",
   "language": "python",
   "name": "python3"
  },
  "language_info": {
   "codemirror_mode": {
    "name": "ipython",
    "version": 3
   },
   "file_extension": ".py",
   "mimetype": "text/x-python",
   "name": "python",
   "nbconvert_exporter": "python",
   "pygments_lexer": "ipython3",
   "version": "3.6.3"
  }
 },
 "nbformat": 4,
 "nbformat_minor": 2
}
