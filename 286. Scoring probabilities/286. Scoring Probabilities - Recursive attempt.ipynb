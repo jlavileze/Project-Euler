{
 "cells": [
  {
   "cell_type": "code",
   "execution_count": 6,
   "metadata": {},
   "outputs": [],
   "source": [
    "def t_of_i(i, n, q):\n",
    "    t = 0\n",
    "    for j in range(1,n+1):\n",
    "        p_j = j / q\n",
    "        OneMinusp_j = 1 - p_j\n",
    "        t += pow( p_j / OneMinusp_j ,i)\n",
    "    return t"
   ]
  },
  {
   "cell_type": "code",
   "execution_count": 16,
   "metadata": {},
   "outputs": [],
   "source": [
    "def scoring_probability(k, n, q):\n",
    "    Prob_K_equals_k = []\n",
    "    for k_rec in range(k+1):\n",
    "        if k_rec == 0:\n",
    "            prob = 1\n",
    "            for i in range(1,n+1):\n",
    "                prob *= i/q\n",
    "        else:\n",
    "            prob = 0\n",
    "            for i in range(1,k_rec + 1):\n",
    "                prob += (-1)**(i-1) * Prob_K_equals_k[k_rec - i - 1] * t_of_i(i, n , q)\n",
    "            prob *= k_rec\n",
    "        Prob_K_equals_k.append(prob)\n",
    "    return Prob_K_equals_k[-1]"
   ]
  },
  {
   "cell_type": "code",
   "execution_count": 10,
   "metadata": {},
   "outputs": [],
   "source": [
    "def problem286(q):\n",
    "    return scoring_probability(20, 50, q) - 0.02"
   ]
  },
  {
   "cell_type": "code",
   "execution_count": 28,
   "metadata": {},
   "outputs": [],
   "source": [
    "def bisection_method(f, a, b, tol):\n",
    "    while(True):\n",
    "        c = (a+b)/2\n",
    "        f_of_c = f(c)\n",
    "        f_of_a = f(a)\n",
    "        print(f_of_c)\n",
    "        if f_of_c == 0 or (b-a)/2 < tol:\n",
    "            return c\n",
    "        elif f_of_c * f_of_a > 0:\n",
    "            a = c\n",
    "        else:\n",
    "            b = c "
   ]
  },
  {
   "cell_type": "code",
   "execution_count": 20,
   "metadata": {},
   "outputs": [],
   "source": [
    "from decimal import *"
   ]
  },
  {
   "cell_type": "code",
   "execution_count": 22,
   "metadata": {},
   "outputs": [],
   "source": [
    "getcontext().prec = 100"
   ]
  },
  {
   "cell_type": "code",
   "execution_count": 23,
   "metadata": {},
   "outputs": [
    {
     "data": {
      "text/plain": [
       "Context(prec=28, rounding=ROUND_HALF_EVEN, Emin=-999999, Emax=999999, capitals=1, clamp=0, flags=[], traps=[InvalidOperation, DivisionByZero, Overflow])"
      ]
     },
     "execution_count": 23,
     "metadata": {},
     "output_type": "execute_result"
    }
   ],
   "source": [
    "getcontext()"
   ]
  },
  {
   "cell_type": "code",
   "execution_count": 29,
   "metadata": {},
   "outputs": [
    {
     "name": "stdout",
     "output_type": "stream",
     "text": [
      "1.2353228661849543e+209\n",
      "3.847355008059073e+178\n",
      "2.8532101068476797e+166\n",
      "8.731004010243478e+160\n",
      "2.006914933816814e+158\n",
      "1.025454578529029e+157\n",
      "2.353935407639404e+156\n",
      "1.1320801061758026e+156\n",
      "7.858252577288077e+155\n",
      "6.548651175794104e+155\n",
      "5.97847074103268e+155\n",
      "5.712359813657676e+155\n",
      "5.58380005250016e+155\n",
      "5.520614285360506e+155\n",
      "5.489291283664263e+155\n",
      "5.47369680238577e+155\n",
      "5.465916260581132e+155\n",
      "5.462030157399861e+155\n",
      "5.460088146866149e+155\n",
      "5.459117401755095e+155\n",
      "5.458632094224713e+155\n",
      "5.458389456714125e+155\n",
      "5.458268142022734e+155\n",
      "5.458207485692784e+155\n",
      "5.458177157781546e+155\n",
      "5.45816199388966e+155\n",
      "5.458154411959246e+155\n",
      "5.458150620998462e+155\n",
      "5.45814872551844e+155\n",
      "5.4581477777788e+155\n",
      "5.458147303909458e+155\n",
      "5.4581470669743985e+155\n",
      "5.458146948507223e+155\n"
     ]
    },
    {
     "data": {
      "text/plain": [
       "58.99999999906868"
      ]
     },
     "execution_count": 29,
     "metadata": {},
     "output_type": "execute_result"
    }
   ],
   "source": [
    "bisection_monotonic(problem286, 51, 59, 10e-10)"
   ]
  },
  {
   "cell_type": "code",
   "execution_count": null,
   "metadata": {},
   "outputs": [],
   "source": []
  }
 ],
 "metadata": {
  "kernelspec": {
   "display_name": "Python 3",
   "language": "python",
   "name": "python3"
  },
  "language_info": {
   "codemirror_mode": {
    "name": "ipython",
    "version": 3
   },
   "file_extension": ".py",
   "mimetype": "text/x-python",
   "name": "python",
   "nbconvert_exporter": "python",
   "pygments_lexer": "ipython3",
   "version": "3.7.4"
  }
 },
 "nbformat": 4,
 "nbformat_minor": 4
}
