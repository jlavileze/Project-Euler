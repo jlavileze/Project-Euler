{
 "cells": [
  {
   "cell_type": "code",
   "execution_count": 1,
   "metadata": {},
   "outputs": [],
   "source": [
    "from collections import defaultdict\n",
    "from heapq import *\n",
    "\n",
    "def dijkstra_2(edges, f, t):\n",
    "    '''\n",
    "    https://gist.github.com/kachayev/5990802\n",
    "    '''\n",
    "    g = defaultdict(list)\n",
    "    for l,r,c in edges:\n",
    "        g[l].append((c,r))\n",
    "\n",
    "    q, seen = [(0,f,())], set()\n",
    "    while q:\n",
    "        (cost,v1,path) = heappop(q)\n",
    "        if v1 not in seen:\n",
    "            seen.add(v1)\n",
    "            path = (v1, path)\n",
    "            if v1 == t: return (cost, path)\n",
    "\n",
    "            for c, v2 in g.get(v1, ()):\n",
    "                if v2 not in seen:\n",
    "                    heappush(q, (cost+c, v2, path))\n",
    "\n",
    "    return float(\"inf\")\n",
    "\n",
    "class Graph:\n",
    "    '''\n",
    "    Retrieved from https://gist.github.com/econchick/4666413\n",
    "    '''\n",
    "    def __init__(self):\n",
    "        self.nodes = set()\n",
    "        self.edges = defaultdict(list)\n",
    "        self.distances = {}\n",
    "\n",
    "    def add_node(self, value):\n",
    "        self.nodes.add(value)\n",
    "\n",
    "    def add_edge(self, from_node, to_node, distance):\n",
    "        self.edges[from_node].append(to_node)\n",
    "        self.edges[to_node].append(from_node)\n",
    "        self.distances[(from_node, to_node)] = distance\n",
    "        #self.distances[(to_node, from_node)] = distance\n",
    "\n",
    "\n"
   ]
  },
  {
   "cell_type": "code",
   "execution_count": 3,
   "metadata": {},
   "outputs": [],
   "source": [
    "f = open(\"p083_matrix.txt\",\"r\")\n",
    "lines = f.readlines()\n",
    "f.close()\n",
    "\n",
    "matrix = []\n",
    "for line in lines:\n",
    "    x = line.split(\",\")\n",
    "    x = list(map(lambda x: int(x), x))\n",
    "    matrix.append(x)"
   ]
  },
  {
   "cell_type": "code",
   "execution_count": 7,
   "metadata": {},
   "outputs": [],
   "source": [
    "# Initialise graph with the zeroth vertex\n",
    "mygraph = Graph()\n",
    "mygraph.add_node(0)\n",
    "# Initialise other nodes\n",
    "for i in range(80):\n",
    "    for j in range(80):\n",
    "        tup = (i,j)\n",
    "        mygraph.add_node(tup)"
   ]
  },
  {
   "cell_type": "code",
   "execution_count": 8,
   "metadata": {},
   "outputs": [],
   "source": [
    "mygraph.add_edge(from_node = 0, to_node=(0,0), distance=matrix[0][0])\n",
    "for i in range(80):\n",
    "    for j in range(80):\n",
    "        dist = matrix[i][j]\n",
    "        # matrix[y][x]\n",
    "        if i != 0 and j != 0 and i != 79 and j !=79:\n",
    "            # Deal with interior vertices\n",
    "            mygraph.add_edge(from_node = (i-1, j), to_node=(i,j), distance=dist)\n",
    "            mygraph.add_edge(from_node = (i+1, j), to_node=(i,j), distance=dist)\n",
    "            mygraph.add_edge(from_node = (i, j-1), to_node=(i,j), distance=dist)\n",
    "            mygraph.add_edge(from_node = (i, j+1), to_node=(i,j), distance=dist)\n",
    "        elif j == 79:\n",
    "            # Dealt with rightmost column\n",
    "            if i == 0 :\n",
    "                mygraph.add_edge(from_node = (i+1, j), to_node=(i,j), distance=dist)\n",
    "                mygraph.add_edge(from_node = (i, j-1), to_node=(i,j), distance=dist)\n",
    "            elif i == 79:\n",
    "                mygraph.add_edge(from_node = (i-1, j), to_node=(i,j), distance=dist)\n",
    "                mygraph.add_edge(from_node = (i, j-1), to_node=(i,j), distance=dist)\n",
    "            else:\n",
    "                mygraph.add_edge(from_node = (i-1, j), to_node=(i,j), distance=dist)\n",
    "                mygraph.add_edge(from_node = (i+1, j), to_node=(i,j), distance=dist)\n",
    "                mygraph.add_edge(from_node = (i, j-1), to_node=(i,j), distance=dist)\n",
    "        elif j == 0:\n",
    "            # Deal with leftmost column            \n",
    "            if i == 0 :\n",
    "                mygraph.add_edge(from_node = (i+1, j), to_node=(i,j), distance=dist)\n",
    "                mygraph.add_edge(from_node = (i, j+1), to_node=(i,j), distance=dist)\n",
    "            elif i == 79:\n",
    "                mygraph.add_edge(from_node = (i-1, j), to_node=(i,j), distance=dist)\n",
    "                mygraph.add_edge(from_node = (i, j+1), to_node=(i,j), distance=dist)\n",
    "            else:\n",
    "                mygraph.add_edge(from_node = (i-1, j), to_node=(i,j), distance=dist)\n",
    "                mygraph.add_edge(from_node = (i+1, j), to_node=(i,j), distance=dist)\n",
    "                mygraph.add_edge(from_node = (i, j+1), to_node=(i,j), distance=dist)\n",
    "        else:\n",
    "            #We are left with top and bottom rows without exterior cells\n",
    "            if i == 0:\n",
    "                mygraph.add_edge(from_node = (i, j-1), to_node=(i,j), distance=dist)\n",
    "                mygraph.add_edge(from_node = (i, j+1), to_node=(i,j), distance=dist)\n",
    "                mygraph.add_edge(from_node = (i+1, j), to_node=(i,j), distance=dist)\n",
    "            else:\n",
    "                mygraph.add_edge(from_node = (i, j-1), to_node=(i,j), distance=dist)\n",
    "                mygraph.add_edge(from_node = (i, j+1), to_node=(i,j), distance=dist)\n",
    "                mygraph.add_edge(from_node = (i-1, j), to_node=(i,j), distance=dist)\n"
   ]
  },
  {
   "cell_type": "code",
   "execution_count": 9,
   "metadata": {},
   "outputs": [],
   "source": [
    "edges = []\n",
    "\n",
    "for key in mygraph.distances:\n",
    "    x = key[0]\n",
    "    y = key[1]\n",
    "    z = mygraph.distances[key]\n",
    "    tup = (x,y,z)\n",
    "    edges.append(tup)\n"
   ]
  },
  {
   "cell_type": "code",
   "execution_count": 10,
   "metadata": {},
   "outputs": [
    {
     "data": {
      "text/plain": [
       "425185"
      ]
     },
     "execution_count": 10,
     "metadata": {},
     "output_type": "execute_result"
    }
   ],
   "source": [
    "dijkstra_2(edges, 0, (79,79))[0]"
   ]
  },
  {
   "cell_type": "code",
   "execution_count": null,
   "metadata": {},
   "outputs": [],
   "source": []
  }
 ],
 "metadata": {
  "kernelspec": {
   "display_name": "Python 3",
   "language": "python",
   "name": "python3"
  },
  "language_info": {
   "codemirror_mode": {
    "name": "ipython",
    "version": 3
   },
   "file_extension": ".py",
   "mimetype": "text/x-python",
   "name": "python",
   "nbconvert_exporter": "python",
   "pygments_lexer": "ipython3",
   "version": "3.6.3"
  }
 },
 "nbformat": 4,
 "nbformat_minor": 2
}
