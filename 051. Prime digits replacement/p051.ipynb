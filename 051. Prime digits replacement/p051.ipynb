{
 "cells": [
  {
   "cell_type": "code",
   "execution_count": 3,
   "metadata": {},
   "outputs": [],
   "source": [
    "def primes_sieve2(limit):\n",
    "    '''\n",
    "    https://stackoverflow.com/questions/3939660/sieve-of-eratosthenes-finding-primes-python\n",
    "    '''\n",
    "    a = [True] * limit                          # Initialize the primality list\n",
    "    a[0] = a[1] = False\n",
    "\n",
    "    for (i, isprime) in enumerate(a):\n",
    "        if isprime:\n",
    "            yield i\n",
    "            for n in range(i*i, limit, i):     # Mark factors non-prime\n",
    "                a[n] = False"
   ]
  },
  {
   "cell_type": "code",
   "execution_count": 7,
   "metadata": {},
   "outputs": [],
   "source": [
    "primes = list(primes_sieve2(10**6))"
   ]
  },
  {
   "cell_type": "code",
   "execution_count": 8,
   "metadata": {},
   "outputs": [],
   "source": [
    "big_primes = list(filter(lambda x: x > 100000, primes))"
   ]
  },
  {
   "cell_type": "code",
   "execution_count": 30,
   "metadata": {},
   "outputs": [],
   "source": [
    "def prime_digit_replacements(prime):\n",
    "    '''\n",
    "    Given a six-digit prime, a list of lists, containing all arrangements\n",
    "    '''\n",
    "    prime_str = str(prime)\n",
    "    \n",
    "    # These masks get looped from 0-9\n",
    "    masks1 = [\n",
    "        [0,1,1,1,0,0],\n",
    "        [0,1,0,1,1,0],\n",
    "        [0,1,1,0,1,0],\n",
    "        [0,1,1,1,0,0]\n",
    "    ]\n",
    "    # These masks get looped from 1-9\n",
    "    masks2 = [\n",
    "        [1,1,1,0,0,0],\n",
    "        [1,1,0,1,0,0],\n",
    "        [1,0,1,1,0,0],\n",
    "        [1,0,0,1,1,0],\n",
    "        [1,0,1,0,1,0],\n",
    "        [1,1,0,0,1,0]\n",
    "    ]\n",
    "    \n",
    "    patterns = []\n",
    "    \n",
    "    \n",
    "    \n",
    "    for mask in masks1:\n",
    "        subpat = []\n",
    "        for i in range(10):\n",
    "            s = \"\"\n",
    "            for j in range(6):\n",
    "                if mask[j]:\n",
    "                    s += str(i)\n",
    "                else:\n",
    "                    s += prime_str[j]\n",
    "            subpat.append(int(s))\n",
    "        patterns.append(subpat)\n",
    "\n",
    "    for mask in masks2:\n",
    "        subpat = []\n",
    "        for i in range(1,10):\n",
    "            s = \"\"\n",
    "            for j in range(6):\n",
    "                if mask[j]:\n",
    "                    s += str(i)\n",
    "                else:\n",
    "                    s += prime_str[j]\n",
    "            subpat.append(int(s))\n",
    "        patterns.append(subpat)\n",
    "        \n",
    "                \n",
    "    return patterns"
   ]
  },
  {
   "cell_type": "code",
   "execution_count": 22,
   "metadata": {},
   "outputs": [],
   "source": [
    "def contains_eight_primes(lst, loprimes):\n",
    "    counter = 0\n",
    "    if not (lst[0] in loprimes or lst[1] in loprimes or lst[2] in loprimes):\n",
    "        return False\n",
    "    else:\n",
    "        for candidate in lst:\n",
    "            if candidate in loprimes:\n",
    "                counter += 1\n",
    "    return counter == 8"
   ]
  },
  {
   "cell_type": "code",
   "execution_count": 31,
   "metadata": {},
   "outputs": [
    {
     "name": "stdout",
     "output_type": "stream",
     "text": [
      "[121313, 222323, 323333, 424343, 525353, 626363, 727373, 828383, 929393]\n",
      "[121313, 222323, 323333, 424343, 525353, 626363, 727373, 828383, 929393]\n",
      "[121313, 222323, 323333, 424343, 525353, 626363, 727373, 828383, 929393]\n",
      "[121313, 222323, 323333, 424343, 525353, 626363, 727373, 828383, 929393]\n",
      "[121313, 222323, 323333, 424343, 525353, 626363, 727373, 828383, 929393]\n",
      "[121313, 222323, 323333, 424343, 525353, 626363, 727373, 828383, 929393]\n",
      "[121313, 222323, 323333, 424343, 525353, 626363, 727373, 828383, 929393]\n",
      "[121313, 222323, 323333, 424343, 525353, 626363, 727373, 828383, 929393]\n",
      "[121313, 222323, 323333, 424343, 525353, 626363, 727373, 828383, 929393]\n",
      "[121313, 222323, 323333, 424343, 525353, 626363, 727373, 828383, 929393]\n",
      "[121313, 222323, 323333, 424343, 525353, 626363, 727373, 828383, 929393]\n",
      "[121313, 222323, 323333, 424343, 525353, 626363, 727373, 828383, 929393]\n",
      "[121313, 222323, 323333, 424343, 525353, 626363, 727373, 828383, 929393]\n",
      "[121313, 222323, 323333, 424343, 525353, 626363, 727373, 828383, 929393]\n",
      "[121313, 222323, 323333, 424343, 525353, 626363, 727373, 828383, 929393]\n",
      "[121313, 222323, 323333, 424343, 525353, 626363, 727373, 828383, 929393]\n",
      "[121313, 222323, 323333, 424343, 525353, 626363, 727373, 828383, 929393]\n",
      "[121313, 222323, 323333, 424343, 525353, 626363, 727373, 828383, 929393]\n",
      "[121313, 222323, 323333, 424343, 525353, 626363, 727373, 828383, 929393]\n",
      "[121313, 222323, 323333, 424343, 525353, 626363, 727373, 828383, 929393]\n",
      "[121313, 222323, 323333, 424343, 525353, 626363, 727373, 828383, 929393]\n"
     ]
    },
    {
     "ename": "KeyboardInterrupt",
     "evalue": "",
     "output_type": "error",
     "traceback": [
      "\u001b[0;31m---------------------------------------------------------------------------\u001b[0m",
      "\u001b[0;31mKeyboardInterrupt\u001b[0m                         Traceback (most recent call last)",
      "\u001b[0;32m<ipython-input-31-acfcd9043b94>\u001b[0m in \u001b[0;36m<module>\u001b[0;34m()\u001b[0m\n\u001b[1;32m      3\u001b[0m     \u001b[0mpatterns\u001b[0m \u001b[0;34m=\u001b[0m \u001b[0mprime_digit_replacements\u001b[0m\u001b[0;34m(\u001b[0m\u001b[0mprime\u001b[0m\u001b[0;34m)\u001b[0m\u001b[0;34m\u001b[0m\u001b[0m\n\u001b[1;32m      4\u001b[0m     \u001b[0;32mfor\u001b[0m \u001b[0msubpat\u001b[0m \u001b[0;32min\u001b[0m \u001b[0mpatterns\u001b[0m\u001b[0;34m:\u001b[0m\u001b[0;34m\u001b[0m\u001b[0m\n\u001b[0;32m----> 5\u001b[0;31m         \u001b[0;32mif\u001b[0m \u001b[0mcontains_eight_primes\u001b[0m\u001b[0;34m(\u001b[0m\u001b[0msubpat\u001b[0m\u001b[0;34m,\u001b[0m \u001b[0mbig_primes\u001b[0m\u001b[0;34m)\u001b[0m\u001b[0;34m:\u001b[0m\u001b[0;34m\u001b[0m\u001b[0m\n\u001b[0m\u001b[1;32m      6\u001b[0m             \u001b[0mprint\u001b[0m\u001b[0;34m(\u001b[0m\u001b[0msubpat\u001b[0m\u001b[0;34m)\u001b[0m\u001b[0;34m\u001b[0m\u001b[0m\n\u001b[1;32m      7\u001b[0m             \u001b[0;32mbreak\u001b[0m\u001b[0;34m\u001b[0m\u001b[0m\n",
      "\u001b[0;32m<ipython-input-22-b2a903e02dd9>\u001b[0m in \u001b[0;36mcontains_eight_primes\u001b[0;34m(lst, loprimes)\u001b[0m\n\u001b[1;32m      5\u001b[0m     \u001b[0;32melse\u001b[0m\u001b[0;34m:\u001b[0m\u001b[0;34m\u001b[0m\u001b[0m\n\u001b[1;32m      6\u001b[0m         \u001b[0;32mfor\u001b[0m \u001b[0mcandidate\u001b[0m \u001b[0;32min\u001b[0m \u001b[0mlst\u001b[0m\u001b[0;34m:\u001b[0m\u001b[0;34m\u001b[0m\u001b[0m\n\u001b[0;32m----> 7\u001b[0;31m             \u001b[0;32mif\u001b[0m \u001b[0mcandidate\u001b[0m \u001b[0;32min\u001b[0m \u001b[0mloprimes\u001b[0m\u001b[0;34m:\u001b[0m\u001b[0;34m\u001b[0m\u001b[0m\n\u001b[0m\u001b[1;32m      8\u001b[0m                 \u001b[0mcounter\u001b[0m \u001b[0;34m+=\u001b[0m \u001b[0;36m1\u001b[0m\u001b[0;34m\u001b[0m\u001b[0m\n\u001b[1;32m      9\u001b[0m     \u001b[0;32mreturn\u001b[0m \u001b[0mcounter\u001b[0m \u001b[0;34m==\u001b[0m \u001b[0;36m8\u001b[0m\u001b[0;34m\u001b[0m\u001b[0m\n",
      "\u001b[0;31mKeyboardInterrupt\u001b[0m: "
     ]
    }
   ],
   "source": [
    "# Create all patterns\n",
    "for prime in big_primes:\n",
    "    patterns = prime_digit_replacements(prime)\n",
    "    for subpat in patterns:\n",
    "        if contains_eight_primes(subpat, big_primes):\n",
    "            print(subpat)\n",
    "            break"
   ]
  },
  {
   "cell_type": "code",
   "execution_count": 32,
   "metadata": {},
   "outputs": [],
   "source": [
    "# Not very fast, unfortunately, but runs in under a minute\n",
    "\n"
   ]
  },
  {
   "cell_type": "code",
   "execution_count": null,
   "metadata": {},
   "outputs": [],
   "source": []
  }
 ],
 "metadata": {
  "kernelspec": {
   "display_name": "Python 3",
   "language": "python",
   "name": "python3"
  },
  "language_info": {
   "codemirror_mode": {
    "name": "ipython",
    "version": 3
   },
   "file_extension": ".py",
   "mimetype": "text/x-python",
   "name": "python",
   "nbconvert_exporter": "python",
   "pygments_lexer": "ipython3",
   "version": "3.6.3"
  }
 },
 "nbformat": 4,
 "nbformat_minor": 2
}
