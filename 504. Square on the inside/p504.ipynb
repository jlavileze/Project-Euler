{
 "cells": [
  {
   "cell_type": "code",
   "execution_count": 11,
   "metadata": {},
   "outputs": [],
   "source": [
    "from math import gcd, sqrt, floor\n",
    "from itertools import product"
   ]
  },
  {
   "cell_type": "code",
   "execution_count": 28,
   "metadata": {},
   "outputs": [],
   "source": [
    "def triangle_contribution(x_cord, y_cord):\n",
    "    area = 0.5 * x_cord * y_cord\n",
    "    boundary_points_axes = x_cord  + y_cord - 1\n",
    "    boundary_points_hyp = gcd(x_cord, y_cord) + 1\n",
    "    boundary_points = boundary_points_hyp + boundary_points_axes\n",
    "    interior_points = area + 1 - (boundary_points * 0.5)\n",
    "    \n",
    "    return interior_points\n",
    "\n",
    "def quadrilateral(a,b,c,d):\n",
    "    A = triangle_contribution(a,b)\n",
    "    B = triangle_contribution(b,c)\n",
    "    C = triangle_contribution(c,d)\n",
    "    D = triangle_contribution(d,a)\n",
    "    vert = b + d - 2\n",
    "    hor = a + c - 2\n",
    "    return A + B + C + D + vert + hor + 1\n",
    "\n",
    "def is_square(x):\n",
    "    sqrt_x = sqrt(x)\n",
    "    return sqrt_x == floor(sqrt_x)"
   ]
  },
  {
   "cell_type": "code",
   "execution_count": 24,
   "metadata": {},
   "outputs": [
    {
     "data": {
      "text/plain": [
       "0.0"
      ]
     },
     "execution_count": 24,
     "metadata": {},
     "output_type": "execute_result"
    }
   ],
   "source": [
    "triangle_contribution(2,2)"
   ]
  },
  {
   "cell_type": "code",
   "execution_count": 26,
   "metadata": {},
   "outputs": [
    {
     "name": "stdout",
     "output_type": "stream",
     "text": [
      "694687\n"
     ]
    }
   ],
   "source": [
    "total = 0\n",
    "for i in product(range(1,101), repeat = 4):\n",
    "    lattice_points = quadrilateral(i[0],i[1],i[2],i[3])\n",
    "#     print(lattice_points)\n",
    "    if is_square(lattice_points):\n",
    "        total += 1\n",
    "        \n",
    "print(total)"
   ]
  },
  {
   "cell_type": "code",
   "execution_count": null,
   "metadata": {},
   "outputs": [],
   "source": []
  }
 ],
 "metadata": {
  "kernelspec": {
   "display_name": "Python 3",
   "language": "python",
   "name": "python3"
  },
  "language_info": {
   "codemirror_mode": {
    "name": "ipython",
    "version": 3
   },
   "file_extension": ".py",
   "mimetype": "text/x-python",
   "name": "python",
   "nbconvert_exporter": "python",
   "pygments_lexer": "ipython3",
   "version": "3.6.3"
  }
 },
 "nbformat": 4,
 "nbformat_minor": 2
}
