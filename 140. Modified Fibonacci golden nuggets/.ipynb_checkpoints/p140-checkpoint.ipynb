{
 "cells": [
  {
   "cell_type": "markdown",
   "metadata": {},
   "source": [
    "# Problem 140 - Modified Fibonacci golden nuggets\n",
    "\n",
    "We use generating series in a similar fashion to Problem 137. The generating series we are interested in is $$g(x) = \\sum_{k=1}^\\infty G_k x^k$$ which has the following closed form $$g(x) = \\frac{x+3x^2}{1-x-x^2}$$"
   ]
  },
  {
   "cell_type": "code",
   "execution_count": null,
   "metadata": {},
   "outputs": [],
   "source": []
  }
 ],
 "metadata": {
  "kernelspec": {
   "display_name": "Python 3",
   "language": "python",
   "name": "python3"
  },
  "language_info": {
   "codemirror_mode": {
    "name": "ipython",
    "version": 3
   },
   "file_extension": ".py",
   "mimetype": "text/x-python",
   "name": "python",
   "nbconvert_exporter": "python",
   "pygments_lexer": "ipython3",
   "version": "3.6.3"
  }
 },
 "nbformat": 4,
 "nbformat_minor": 2
}
