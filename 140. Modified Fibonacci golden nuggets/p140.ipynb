{
 "cells": [
  {
   "cell_type": "markdown",
   "metadata": {},
   "source": [
    "# Problem 140 - Modified Fibonacci golden nuggets\n",
    "\n",
    "We use generating series in a similar fashion to Problem 137. The generating series we are interested in is $$g(x) = \\sum_{k=1}^\\infty G_k x^k$$ which has the following closed form $$g(x) = \\frac{x+3x^2}{1-x-x^2}$$ Equating the above equation to a fixed integer $n$ and obtaining the discriminant of the resulting polynomial, we observe that $$5 n ^2 + 14 n + 1$$ must be a perfect square to obtained our required form."
   ]
  },
  {
   "cell_type": "code",
   "execution_count": 1,
   "metadata": {},
   "outputs": [],
   "source": [
    "from math import sqrt, floor\n",
    "\n",
    "def candidate_squares(n):\n",
    "    return 5 * n **2 + 14 * n + 1\n",
    "\n",
    "\n",
    "def is_square(x):\n",
    "    sqrt_x = sqrt(x)\n",
    "    return floor(sqrt_x) ** 2 == x"
   ]
  },
  {
   "cell_type": "code",
   "execution_count": 3,
   "metadata": {},
   "outputs": [
    {
     "name": "stdout",
     "output_type": "stream",
     "text": [
      "2\n",
      "5\n",
      "21\n",
      "42\n",
      "152\n",
      "296\n",
      "1050\n",
      "2037\n",
      "7205\n",
      "13970\n",
      "49392\n",
      "95760\n",
      "338546\n",
      "656357\n",
      "2320437\n",
      "4498746\n",
      "15904520\n",
      "30834872\n",
      "109011210\n",
      "211345365\n",
      "211345365\n"
     ]
    }
   ],
   "source": [
    "counter = 0\n",
    "n = 1\n",
    "while counter < 20:\n",
    "    cand = candidate_squares(n)\n",
    "    if is_square(cand):\n",
    "        counter += 1\n",
    "        print(n)\n",
    "    n += 1\n",
    "print(n-1)"
   ]
  },
  {
   "cell_type": "code",
   "execution_count": 6,
   "metadata": {},
   "outputs": [
    {
     "name": "stdout",
     "output_type": "stream",
     "text": [
      "n = 1 || g_n = 1\n",
      "n = 2 || g_n = 4\n",
      "n = 3 || g_n = 5\n",
      "n = 4 || g_n = 9\n",
      "n = 5 || g_n = 14\n",
      "n = 6 || g_n = 23\n",
      "n = 7 || g_n = 37\n",
      "n = 8 || g_n = 60\n",
      "n = 9 || g_n = 97\n",
      "n = 10 || g_n = 157\n",
      "n = 11 || g_n = 254\n",
      "n = 12 || g_n = 411\n",
      "n = 13 || g_n = 665\n",
      "n = 14 || g_n = 1076\n",
      "n = 15 || g_n = 1741\n",
      "n = 16 || g_n = 2817\n",
      "n = 17 || g_n = 4558\n",
      "n = 18 || g_n = 7375\n",
      "n = 19 || g_n = 11933\n"
     ]
    }
   ],
   "source": [
    "g_1 = 1\n",
    "g_2 = 4\n",
    "print(\"n = 1 || g_n = 1\")\n",
    "print(\"n = 2 || g_n = 4\")\n",
    "for n in range(3,20):\n",
    "    g_n = g_1 + g_2\n",
    "    print(\"n = {0} || g_n = {1}\".format(n, g_n))\n",
    "    g_1 = g_2\n",
    "    g_2 = g_n"
   ]
  },
  {
   "cell_type": "code",
   "execution_count": 12,
   "metadata": {},
   "outputs": [],
   "source": [
    "s = \"\"\"2\n",
    "5\n",
    "21\n",
    "42\n",
    "152\n",
    "296\n",
    "1050\n",
    "2037\n",
    "7205\n",
    "13970\n",
    "49392\n",
    "95760\n",
    "338546\n",
    "656357\n",
    "2320437\n",
    "4498746\n",
    "15904520\n",
    "30834872\n",
    "109011210\n",
    "211345365\"\"\""
   ]
  },
  {
   "cell_type": "code",
   "execution_count": 13,
   "metadata": {},
   "outputs": [],
   "source": [
    "l = list(map(lambda x: int(x), s.split(\"\\n\")))"
   ]
  },
  {
   "cell_type": "code",
   "execution_count": 16,
   "metadata": {},
   "outputs": [
    {
     "name": "stdout",
     "output_type": "stream",
     "text": [
      "i = 0 || diff = 5\n",
      "i = 1 || diff = 21\n",
      "i = 2 || diff = 42\n",
      "i = 3 || diff = 152\n",
      "i = 4 || diff = 296\n",
      "i = 5 || diff = 1050\n",
      "i = 6 || diff = 2037\n",
      "i = 7 || diff = 7205\n",
      "i = 8 || diff = 13970\n",
      "i = 9 || diff = 49392\n",
      "i = 10 || diff = 95760\n",
      "i = 11 || diff = 338546\n",
      "i = 12 || diff = 656357\n",
      "i = 13 || diff = 2320437\n",
      "i = 14 || diff = 4498746\n",
      "i = 15 || diff = 15904520\n",
      "i = 16 || diff = 30834872\n",
      "i = 17 || diff = 109011210\n",
      "i = 18 || diff = 211345365\n"
     ]
    }
   ],
   "source": [
    "for i in range(19):\n",
    "    print(\"i = {0} || diff = {1}\".format(i, l[i+1], l[i]))"
   ]
  },
  {
   "cell_type": "code",
   "execution_count": 17,
   "metadata": {},
   "outputs": [
    {
     "name": "stdout",
     "output_type": "stream",
     "text": [
      "2\n",
      "3\n",
      "5\n",
      "8\n",
      "13\n",
      "21\n",
      "34\n",
      "55\n",
      "89\n",
      "144\n",
      "233\n",
      "377\n",
      "610\n",
      "987\n",
      "1597\n",
      "2584\n",
      "4181\n",
      "6765\n",
      "10946\n",
      "17711\n"
     ]
    }
   ],
   "source": [
    "f_1 = 1\n",
    "f_2 = 1\n",
    "for i in range(20):\n",
    "    f_n = f_1 + f_2\n",
    "    print(f_n)\n",
    "    f_1 = f_2\n",
    "    f_2 = f_n"
   ]
  },
  {
   "cell_type": "code",
   "execution_count": 18,
   "metadata": {},
   "outputs": [],
   "source": [
    "# Or we may use a diophantine equation solver:\n",
    "# http://www.alpertron.com.ar/QUAD.HTM\n",
    "# Which yields the following recurrences:\n",
    "# Xn+1 = P Xn + Q Yn + K\n",
    "# Yn+1 = R Xn + S Yn + L\n",
    "\n",
    "# P = -9\n",
    "# Q = -4\n",
    "# K = -14\n",
    "# R = -20\n",
    "# S = -9\n",
    "# L = -28\n",
    "# x_0 = 2\n",
    "# y_0 = 7"
   ]
  },
  {
   "cell_type": "code",
   "execution_count": 45,
   "metadata": {},
   "outputs": [],
   "source": [
    "lst = [2,5,21,42,152,343]"
   ]
  },
  {
   "cell_type": "code",
   "execution_count": 51,
   "metadata": {},
   "outputs": [],
   "source": [
    "P = -9\n",
    "Q = -4\n",
    "K = -14\n",
    "R = -20\n",
    "S = -9\n",
    "L = -28\n",
    "# Six sets of base cases: (2,7), (5,14), (21,50), (42,97), (152, 343), (296,665)\n",
    "x_0 = 296\n",
    "y_0 = 665\n",
    "\n",
    "for i in range(30):\n",
    "    x_n = P * x_0 + Q * y_0 + K\n",
    "    y_n = R * x_0 + S * y_0 + L\n",
    "    if x_n > 0 :\n",
    "        lst.append(x_n)\n",
    "    x_0 = x_n\n",
    "    y_0 = y_n"
   ]
  },
  {
   "cell_type": "code",
   "execution_count": 54,
   "metadata": {},
   "outputs": [],
   "source": [
    "lst.remove(343)\n",
    "lst.append(296)\n",
    "lst.sort()"
   ]
  },
  {
   "cell_type": "code",
   "execution_count": 55,
   "metadata": {},
   "outputs": [
    {
     "data": {
      "text/plain": [
       "[2,\n",
       " 5,\n",
       " 21,\n",
       " 42,\n",
       " 152,\n",
       " 296,\n",
       " 1050,\n",
       " 2037,\n",
       " 7205,\n",
       " 13970,\n",
       " 49392,\n",
       " 95760,\n",
       " 338546,\n",
       " 656357,\n",
       " 2320437,\n",
       " 4498746,\n",
       " 15904520,\n",
       " 30834872,\n",
       " 109011210,\n",
       " 211345365,\n",
       " 747173957,\n",
       " 1448582690,\n",
       " 5121206496,\n",
       " 9928733472,\n",
       " 35101271522,\n",
       " 68052551621,\n",
       " 240587694165,\n",
       " 466439127882,\n",
       " 1649012587640,\n",
       " 3197021343560,\n",
       " 11302500419322,\n",
       " 21912710277045,\n",
       " 77468490347621,\n",
       " 150191950595762,\n",
       " 530976932014032,\n",
       " 1029430943893296,\n",
       " 3639370033750610,\n",
       " 7055824656657317,\n",
       " 24944613304240245,\n",
       " 48361341652707930,\n",
       " 170972923095931112,\n",
       " 331473566912298200,\n",
       " 1171865848367277546,\n",
       " 2271953626733379477,\n",
       " 8032088015475011717,\n",
       " 15572201820221358146,\n",
       " 55052750259957804480,\n",
       " 106733459114816127552,\n",
       " 377337163804229619650,\n",
       " 731562011983491534725,\n",
       " 2586307396369649533077,\n",
       " 5014200624769624615530,\n",
       " 17726814610783317111896,\n",
       " 34367842361403880773992,\n",
       " 121501394879113570250202,\n",
       " 235560695905057540802421,\n",
       " 832782949543011674639525,\n",
       " 1614557028973998904842962,\n",
       " 5707979251921968152226480,\n",
       " 11066338506912934793098320,\n",
       " 39123071813910765390945842,\n",
       " 75849812519416544646845285,\n",
       " 268153523445453389584394421,\n",
       " 519882349129002877734818682,\n",
       " 1837951592304262961699815112,\n",
       " 3563326631383603599496885496,\n",
       " 12597507622684387342314311370,\n",
       " 24423404070556222318743379797,\n",
       " 86344601766486448434500364485,\n",
       " 167400501862509952631706773090,\n",
       " 591814704742720751699188240032,\n",
       " 1147380108967013446103204031840,\n",
       " 4056358331432558813459817315746,\n",
       " 7864260260906584170090721449797,\n",
       " 27802693615285190942519532970197,\n",
       " 53902441717379075744531846116746,\n",
       " 190562496975563777784176913475640,\n",
       " 369452831760746946041632201367432,\n",
       " 1306134785213661253546718861359290,\n",
       " 2532267380607849546546893563455285,\n",
       " 8952380999520064997042855116039397,\n",
       " 17356418832494199879786622742819570,\n",
       " 61360532211426793725753266950916496,\n",
       " 118962664446851549611959465636281712,\n",
       " 420571344480467491083230013540376082,\n",
       " 815382232295466647403929636711152421,\n",
       " 2882638879151845643856856827831716085,\n",
       " 5588712961621414982215547991341785242,\n",
       " 19757900809582452015914767781281636520,\n",
       " 38305608499054438228104906302681344280,\n",
       " 135422666787925318467546517641139739562,\n",
       " 262550546531759652614518796127427624725,\n",
       " 928200766705894777256910855706696540421,\n",
       " 1799548217223263130073526666589312028802,\n",
       " 6361982700153338122330829472305736043392,\n",
       " 12334286974031082257900167869997756576896]"
      ]
     },
     "execution_count": 55,
     "metadata": {},
     "output_type": "execute_result"
    }
   ],
   "source": [
    "lst\n",
    "\n",
    "# 2\n",
    "# 5\n",
    "# 21\n",
    "# 42\n",
    "# 152\n",
    "# 296\n",
    "# 1050\n",
    "# 2037\n",
    "# 7205\n",
    "# 13970\n",
    "# 49392\n",
    "# 95760\n",
    "# 338546\n",
    "# 656357\n",
    "# 2320437\n",
    "# 4498746\n",
    "# 15904520\n",
    "# 30834872\n",
    "# 109011210\n",
    "# 211345365\n",
    "# 211345365"
   ]
  },
  {
   "cell_type": "code",
   "execution_count": 56,
   "metadata": {},
   "outputs": [
    {
     "data": {
      "text/plain": [
       "5673835352990"
      ]
     },
     "execution_count": 56,
     "metadata": {},
     "output_type": "execute_result"
    }
   ],
   "source": [
    "sum(lst[:30])"
   ]
  },
  {
   "cell_type": "code",
   "execution_count": null,
   "metadata": {},
   "outputs": [],
   "source": []
  }
 ],
 "metadata": {
  "kernelspec": {
   "display_name": "Python 3",
   "language": "python",
   "name": "python3"
  },
  "language_info": {
   "codemirror_mode": {
    "name": "ipython",
    "version": 3
   },
   "file_extension": ".py",
   "mimetype": "text/x-python",
   "name": "python",
   "nbconvert_exporter": "python",
   "pygments_lexer": "ipython3",
   "version": "3.6.3"
  }
 },
 "nbformat": 4,
 "nbformat_minor": 2
}
