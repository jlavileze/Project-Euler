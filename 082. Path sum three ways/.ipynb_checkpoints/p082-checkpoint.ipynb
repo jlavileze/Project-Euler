{
 "cells": [
  {
   "cell_type": "code",
   "execution_count": 2,
   "metadata": {
    "slideshow": {
     "slide_type": "-"
    }
   },
   "outputs": [],
   "source": [
    "from collections import defaultdict\n",
    "from heapq import *\n",
    "\n",
    "def dijkstra_2(edges, f, t):\n",
    "    g = defaultdict(list)\n",
    "    for l,r,c in edges:\n",
    "        g[l].append((c,r))\n",
    "\n",
    "    q, seen = [(0,f,())], set()\n",
    "    while q:\n",
    "        (cost,v1,path) = heappop(q)\n",
    "        if v1 not in seen:\n",
    "            seen.add(v1)\n",
    "            path = (v1, path)\n",
    "            if v1 == t: return (cost, path)\n",
    "\n",
    "            for c, v2 in g.get(v1, ()):\n",
    "                if v2 not in seen:\n",
    "                    heappush(q, (cost+c, v2, path))\n",
    "\n",
    "    return float(\"inf\")\n",
    "\n",
    "class Graph:\n",
    "    '''\n",
    "    Retrieved from https://gist.github.com/econchick/4666413\n",
    "    '''\n",
    "    def __init__(self):\n",
    "        self.nodes = set()\n",
    "        self.edges = defaultdict(list)\n",
    "        self.distances = {}\n",
    "\n",
    "    def add_node(self, value):\n",
    "        self.nodes.add(value)\n",
    "\n",
    "    def add_edge(self, from_node, to_node, distance):\n",
    "        self.edges[from_node].append(to_node)\n",
    "        self.edges[to_node].append(from_node)\n",
    "        self.distances[(from_node, to_node)] = distance\n",
    "        #self.distances[(to_node, from_node)] = distance\n",
    "\n",
    "\n"
   ]
  },
  {
   "cell_type": "code",
   "execution_count": 3,
   "metadata": {},
   "outputs": [],
   "source": [
    "f = open(\"p082_matrix.txt\",\"r\")\n",
    "lines = f.readlines()\n",
    "f.close()"
   ]
  },
  {
   "cell_type": "code",
   "execution_count": 4,
   "metadata": {},
   "outputs": [],
   "source": [
    "matrix = []\n",
    "for line in lines:\n",
    "    x = line.split(\",\")\n",
    "    x = list(map(lambda x: int(x), x))\n",
    "    matrix.append(x)"
   ]
  },
  {
   "cell_type": "code",
   "execution_count": 5,
   "metadata": {},
   "outputs": [],
   "source": [
    "# Initialise graph with the zeroth vertex\n",
    "mygraph = Graph()\n",
    "mygraph.add_node(0)"
   ]
  },
  {
   "cell_type": "code",
   "execution_count": 6,
   "metadata": {},
   "outputs": [],
   "source": [
    "# Add interior vertices\n",
    "for i in range(1,79):\n",
    "    for j in range(1,79):\n",
    "        dist = matrix[i][j]\n",
    "        mygraph.add_edge(from_node = (i-1, j), to_node=(i,j), distance=dist)\n",
    "        mygraph.add_edge(from_node = (i+1, j), to_node=(i,j), distance=dist)\n",
    "        mygraph.add_edge(from_node = (i, j-1), to_node=(i,j), distance=dist)"
   ]
  },
  {
   "cell_type": "code",
   "execution_count": 50,
   "metadata": {},
   "outputs": [],
   "source": [
    "# Add from 0 to (i,0)\n",
    "for i in range(80):\n",
    "    dist = matrix[i][0]\n",
    "    mygraph.add_edge(from_node = 0, to_node=(i,0), distance=dist)"
   ]
  },
  {
   "cell_type": "code",
   "execution_count": 51,
   "metadata": {},
   "outputs": [],
   "source": [
    "# Add across first column\n",
    "for i in range(80):\n",
    "    dist = matrix[i][0]\n",
    "    if i != 0 and i != 79:\n",
    "        mygraph.add_edge(from_node = (i-1,0), to_node=(i,0), distance=dist)\n",
    "        mygraph.add_edge(from_node = (i+1,0), to_node=(i,0), distance=dist)\n",
    "    elif i == 0:\n",
    "        mygraph.add_edge(from_node = (i+1,0), to_node=(i,0), distance=dist)\n",
    "    else:\n",
    "        mygraph.add_edge(from_node = (i-1,0), to_node=(i,0), distance=dist)"
   ]
  },
  {
   "cell_type": "code",
   "execution_count": 52,
   "metadata": {},
   "outputs": [],
   "source": [
    "# Add across first row\n",
    "\n",
    "for i in range(1,80):\n",
    "    dist = matrix[0][i]\n",
    "    mygraph.add_edge(from_node = (0,i-1), to_node=(0,i), distance=dist)\n",
    "    mygraph.add_edge(from_node = (1,i), to_node=(0,i), distance=dist)\n",
    "    \n",
    "# Add across last row\n",
    "for i in range(1,80):\n",
    "    dist = matrix[79][i]\n",
    "    mygraph.add_edge(from_node = (0,i-1), to_node=(0,i), distance=dist)\n",
    "    mygraph.add_edge(from_node = (78,i), to_node=(79,i), distance=dist)"
   ]
  },
  {
   "cell_type": "code",
   "execution_count": 53,
   "metadata": {},
   "outputs": [],
   "source": [
    "# Add across last column\n",
    "for i in range(1,79):\n",
    "    dist = matrix[i][79]\n",
    "    mygraph.add_edge(from_node = (0,i-1), to_node=(0,i), distance=dist)"
   ]
  },
  {
   "cell_type": "code",
   "execution_count": 54,
   "metadata": {},
   "outputs": [],
   "source": [
    "edges = []\n",
    "\n",
    "for key in mygraph.distances:\n",
    "    x = key[0]\n",
    "    y = key[1]\n",
    "    z = mygraph.distances[key]\n",
    "    tup = (x,y,z)\n",
    "    edges.append(tup)\n"
   ]
  },
  {
   "cell_type": "code",
   "execution_count": 55,
   "metadata": {},
   "outputs": [
    {
     "name": "stdout",
     "output_type": "stream",
     "text": [
      "260324\n"
     ]
    }
   ],
   "source": [
    "min_dist = 10 ** 10\n",
    "for i in range(80):\n",
    "    dist = dijkstra_2(edges, 0, (i,78))[0]\n",
    "    total = dist + matrix[i][79]\n",
    "    if total < min_dist:\n",
    "        min_dist = total\n",
    "\n",
    "print(min_dist)"
   ]
  },
  {
   "cell_type": "code",
   "execution_count": null,
   "metadata": {},
   "outputs": [],
   "source": []
  }
 ],
 "metadata": {
  "kernelspec": {
   "display_name": "Python 3",
   "language": "python",
   "name": "python3"
  },
  "language_info": {
   "codemirror_mode": {
    "name": "ipython",
    "version": 3
   },
   "file_extension": ".py",
   "mimetype": "text/x-python",
   "name": "python",
   "nbconvert_exporter": "python",
   "pygments_lexer": "ipython3",
   "version": "3.6.3"
  }
 },
 "nbformat": 4,
 "nbformat_minor": 2
}
