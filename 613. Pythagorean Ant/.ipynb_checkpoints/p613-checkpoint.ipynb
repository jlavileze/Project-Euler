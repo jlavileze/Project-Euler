{
 "cells": [
  {
   "cell_type": "markdown",
   "metadata": {},
   "source": [
    "# Problem 613: Pythagorean ant\n",
    "\n",
    "Given that the ant starts at the coordinates $(x,y)$, the probability that it will leave by the long end is $$f(x,y) = \\frac{\\frac{\\pi}{2} + \\arctan \\frac{y}{4-x} + \\arctan \\frac{x}{3-y}}{2 \\pi}$$\n",
    "\n",
    "Thus, to solve the problem we simply have to find the average value of $f(x,y)$ over the triangle with vertices $(0,0), (4,0), (0,3)$. The integral that solves this is given by: $$P( escape) = \\frac{1}{ \\mu (R)} \\int \\int_R f(x,y) dA$$\n",
    "where $$R = \\{(x,y) : 0 \\leq x \\leq 4, 0 \\leq y \\leq 3 - \\frac{3}{4} x\\}$$\n",
    "\n",
    "By the mathematical power and might of [WolframAlpha](https://goo.gl/Sb861L), we obtain:\n",
    "$$P(escape) = \\frac{1}{12 \\pi} * \\left(6 \\pi + \\ln \\left( \\frac{5308416 \\sqrt{0.6}}{244140625} \\right) \\right) \\approx 0.3916721504$$"
   ]
  },
  {
   "cell_type": "code",
   "execution_count": null,
   "metadata": {},
   "outputs": [],
   "source": []
  }
 ],
 "metadata": {
  "kernelspec": {
   "display_name": "Python 3",
   "language": "python",
   "name": "python3"
  },
  "language_info": {
   "codemirror_mode": {
    "name": "ipython",
    "version": 3
   },
   "file_extension": ".py",
   "mimetype": "text/x-python",
   "name": "python",
   "nbconvert_exporter": "python",
   "pygments_lexer": "ipython3",
   "version": "3.6.3"
  }
 },
 "nbformat": 4,
 "nbformat_minor": 2
}
