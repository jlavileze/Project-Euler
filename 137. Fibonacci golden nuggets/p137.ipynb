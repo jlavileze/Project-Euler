{
 "cells": [
  {
   "cell_type": "markdown",
   "metadata": {},
   "source": [
    "# Problem 137 - Fibonacci golden nuggets\n",
    "\n",
    "We find a closed form for the Fibonacci generating function $$g(x) = \\sum_{k=0}^\\infty F_k x^k$$ We note, using the limit ratio test, that the series converges for $ \\left|x \\right| < \\frac{2}{1+\\sqrt{5}}$. A little algebra tells us that\n",
    "\n",
    "$$\\begin{eqnarray}\n",
    "g(x) &=& \\sum_{k=0}^\\infty F_k x^k\n",
    "\\cr &=& F_0 + F_1 x + \\sum_{k=2}^\\infty F_k x^k\n",
    "\\cr &=& x + \\sum_{k=2}^\\infty F_k x^k\n",
    "\\cr &=& x + \\sum_{k=2}^\\infty (F_{k-1} + F_{k-2}) x^k\n",
    "\\cr &=& x + \\sum_{k=2}^\\infty F_{k-1} x^k + \\sum_{k=2}^\\infty F_{k-2} x^k\n",
    "\\cr &=& x + x \\sum_{k=2}^\\infty F_{k-1} x^{k-1} + x^2 \\sum_{k=2}^\\infty F_{k-2} x^{k-2}\n",
    "\\cr &=& x + x \\sum_{k=1}^\\infty F_{k} x^{k} + x^2 \\sum_{k=0}^\\infty F_{k} x^{k}\n",
    "\\cr &=& x + x \\sum_{k=0}^\\infty F_{k} x^{k} + x^2 \\sum_{k=0}^\\infty F_{k} x^{k} \\quad \\text{(since $F_0 = 0$ )}\n",
    "\\cr &=& x + x g(x) + x^2 g(x)\n",
    "\\end{eqnarray}$$\n",
    "\n",
    "Re-arranging and equating for $g$ yields $$g(x) = \\frac{x}{1 - x - x^2}$$ For $g(x) = n \\in \\mathbb{Z}$ we must have that $5n^2 +2n + 1$ be a perfect square (we obtain this from the quadratic equation).\n"
   ]
  },
  {
   "cell_type": "code",
   "execution_count": 12,
   "metadata": {},
   "outputs": [],
   "source": [
    "from math import sqrt, floor\n",
    "\n",
    "def candidate_squares(n):\n",
    "    return 5 * n **2 + 2 * n + 1\n",
    "\n",
    "\n",
    "def is_square(x):\n",
    "    sqrt_x = sqrt(x)\n",
    "    return floor(sqrt_x) ** 2 == x"
   ]
  },
  {
   "cell_type": "code",
   "execution_count": 18,
   "metadata": {},
   "outputs": [
    {
     "name": "stdout",
     "output_type": "stream",
     "text": [
      "2\n",
      "15\n",
      "104\n",
      "714\n",
      "4895\n",
      "33552\n",
      "229970\n",
      "1576239\n",
      "1576239\n"
     ]
    }
   ],
   "source": [
    "counter = 0\n",
    "n = 1\n",
    "while counter < 8:\n",
    "    cand = candidate_squares(n)\n",
    "    if is_square(cand):\n",
    "        counter += 1\n",
    "        print(n)\n",
    "    n += 1\n",
    "print(n-1)"
   ]
  },
  {
   "cell_type": "markdown",
   "metadata": {},
   "source": [
    "We infer from the sequence above that $A_F (x) \\in \\mathbb{Z}$ if and only if the $n$ defined above satisfies $n = F_k F_{k-1}$"
   ]
  },
  {
   "cell_type": "code",
   "execution_count": 25,
   "metadata": {},
   "outputs": [],
   "source": [
    "def nth_fib(n):\n",
    "    sqrt_5 = sqrt(5)\n",
    "    phi = (1 + sqrt_5) / 2\n",
    "    psi = (1 - sqrt_5) / 2\n",
    "    ans = (phi ** n - psi ** n) / sqrt_5\n",
    "    return int(ans)"
   ]
  },
  {
   "cell_type": "code",
   "execution_count": 34,
   "metadata": {},
   "outputs": [
    {
     "data": {
      "text/plain": [
       "1120149658760"
      ]
     },
     "execution_count": 34,
     "metadata": {},
     "output_type": "execute_result"
    }
   ],
   "source": [
    "nth_fib(30) * nth_fib(31)"
   ]
  },
  {
   "cell_type": "code",
   "execution_count": null,
   "metadata": {},
   "outputs": [],
   "source": []
  }
 ],
 "metadata": {
  "kernelspec": {
   "display_name": "Python 3",
   "language": "python",
   "name": "python3"
  },
  "language_info": {
   "codemirror_mode": {
    "name": "ipython",
    "version": 3
   },
   "file_extension": ".py",
   "mimetype": "text/x-python",
   "name": "python",
   "nbconvert_exporter": "python",
   "pygments_lexer": "ipython3",
   "version": "3.6.3"
  }
 },
 "nbformat": 4,
 "nbformat_minor": 2
}
