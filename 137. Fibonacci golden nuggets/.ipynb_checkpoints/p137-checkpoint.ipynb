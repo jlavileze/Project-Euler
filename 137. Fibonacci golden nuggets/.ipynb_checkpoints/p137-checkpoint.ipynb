{
 "cells": [
  {
   "cell_type": "markdown",
   "metadata": {},
   "source": [
    "# Problem 137 - Fibonacci golden nuggets\n",
    "\n",
    "We find a closed form for the Fibonacci generating function $$g(x) = \\sum_{k=0}^\\infty F_k x^k$$ We note, using the limit ratio test, that the series converges for $ \\left|x \\right| < \\frac{2}{1+\\sqrt{5}}$. A little algebra tells us that\n",
    "\n",
    "$$\\begin{eqnarray}\n",
    "g(x) &=& \\sum_{k=0}^\\infty F_k x^k\n",
    "\\cr &=& F_0 + F_1 x + \\sum_{k=2}^\\infty F_k x^k\n",
    "\\cr &=& x + \\sum_{k=2}^\\infty F_k x^k\n",
    "\\cr &=& x + \\sum_{k=2}^\\infty (F_{k-1} + F_{k-2}) x^k\n",
    "\\cr &=& x + \\sum_{k=2}^\\infty F_{k-1} x^k + \\sum_{k=2}^\\infty F_{k-2} x^k\n",
    "\\cr &=& x + x \\sum_{k=2}^\\infty F_{k-1} x^{k-1} + x^2 \\sum_{k=2}^\\infty F_{k-2} x^{k-2}\n",
    "\\cr &=& x + x \\sum_{k=1}^\\infty F_{k} x^{k} + x^2 \\sum_{k=0}^\\infty F_{k} x^{k}\n",
    "\\cr &=& x + x \\sum_{k=0}^\\infty F_{k} x^{k} + x^2 \\sum_{k=0}^\\infty F_{k} x^{k} \\quad \\text{(since $F_0 = 0$ )}\n",
    "\\cr &=& x + x g(x) + x^2 g(x)\n",
    "\\end{eqnarray}$$\n",
    "\n",
    "Re-arranging and equating for $g$ yields $$g(x) = \\frac{x}{1 - x - x^2}$$\n"
   ]
  },
  {
   "cell_type": "code",
   "execution_count": null,
   "metadata": {},
   "outputs": [],
   "source": []
  }
 ],
 "metadata": {
  "kernelspec": {
   "display_name": "Python 3",
   "language": "python",
   "name": "python3"
  },
  "language_info": {
   "codemirror_mode": {
    "name": "ipython",
    "version": 3
   },
   "file_extension": ".py",
   "mimetype": "text/x-python",
   "name": "python",
   "nbconvert_exporter": "python",
   "pygments_lexer": "ipython3",
   "version": "3.6.3"
  }
 },
 "nbformat": 4,
 "nbformat_minor": 2
}
